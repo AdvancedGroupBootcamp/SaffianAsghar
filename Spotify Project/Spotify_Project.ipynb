{
  "nbformat": 4,
  "nbformat_minor": 0,
  "metadata": {
    "colab": {
      "provenance": [],
      "collapsed_sections": []
    },
    "kernelspec": {
      "name": "python3",
      "display_name": "Python 3"
    },
    "language_info": {
      "name": "python"
    }
  },
  "cells": [
    {
      "cell_type": "code",
      "execution_count": null,
      "metadata": {
        "id": "E06XTWWFZjfU",
        "colab": {
          "base_uri": "https://localhost:8080/"
        },
        "outputId": "18cf3020-257f-4137-c3d0-19ee5e3047d7"
      },
      "outputs": [
        {
          "output_type": "stream",
          "name": "stdout",
          "text": [
            "Mounted at /content/drive\n"
          ]
        }
      ],
      "source": [
        "from google.colab import drive\n",
        "drive.mount('/content/drive')"
      ]
    },
    {
      "cell_type": "code",
      "source": [
        "import pandas as pd\n",
        "import json as js\n",
        "from zipfile import ZipFile\n",
        "from collections import Counter\n",
        "from collections import defaultdict\n"
      ],
      "metadata": {
        "id": "qt4gvYoBaBag"
      },
      "execution_count": 47,
      "outputs": []
    },
    {
      "cell_type": "code",
      "source": [
        "zip_file_path = '/content/drive/MyDrive/Python Bootcamp Saffian/spotify_million_playlist_dataset.zip'\n",
        "  \n",
        "zip_file = ZipFile(zip_file_path)\n",
        "zip_files = {text_file    for text_file in zip_file.namelist()       if text_file.endswith('.json')}"
      ],
      "metadata": {
        "id": "adzVo9bo9P37"
      },
      "execution_count": null,
      "outputs": []
    },
    {
      "cell_type": "code",
      "source": [
        "playlists_count = defaultdict(set)\n",
        "tracks_count = defaultdict(set)\n",
        "artists = {\"zaz\" : {\"featured\" : 0, \"duration\" : 0, \"playlists\" : 0}, \"oumou\": {\"featured\" : 0, \"duration\" : 0, \"playlists\" : 0}, \"kendrick lamar\" : {\"featured\" : 0, \"duration\" : 0, \"playlists\" : 0}, \"p!nk\":  {\"featured\" : 0, \"duration\" : 0, \"playlists\" : 0} ,\"muse\": {\"featured\" : 0, \"duration\" : 0, \"playlists\" : 0},\"the killers\": {\"featured\" : 0, \"duration\" : 0, \"playlists\" : 0},\"eminem\": {\"featured\" : 0, \"duration\" : 0, \"playlists\" : 0}, \"taylor swift\": {\"featured\" : 0, \"duration\" : 0, \"playlists\" : 0}, \"harry styles\": {\"featured\" : 0, \"duration\" : 0, \"playlists\" : 0},\"lara fabian\": {\"featured\" : 0, \"duration\" : 0, \"playlists\" : 0},\"andrea bocelli\": {\"featured\" : 0, \"duration\" : 0, \"playlists\" : 0},\"laurent garnier\": {\"featured\" : 0, \"duration\" : 0, \"playlists\" : 0}}\n"
      ],
      "metadata": {
        "id": "zcMw_1ChZjp3"
      },
      "execution_count": null,
      "outputs": []
    },
    {
      "cell_type": "code",
      "source": [
        "for single_file in zip_files:\n",
        "    with zip_file.open(single_file) as myfile:\n",
        "      data = myfile.read()\n",
        "      file = js.loads(data)\n",
        "    for playlist in file['playlists']:\n",
        "      for track in playlist['tracks']:\n",
        "        if(track['artist_name'].lower() in artists.keys()):\n",
        "          tracks_count[track['artist_name'].lower()].add(track['track_uri'])\n",
        "          playlists_count[track['artist_name'].lower()].add(playlist['pid'])\n",
        "          artists[track['artist_name'].lower()]['duration'] += track['duration_ms']\n",
        "          #playlists[track['artist_name'].lower()].add(playlist['pid'])\n",
        "\n",
        "for artist in artists.keys():\n",
        "  artists[artist]['featured'] = len(tracks_count[artist.lower()])\n",
        "  artists[artist]['playlists'] = len(playlists_count[artist.lower()])\n",
        "\n",
        "\n"
      ],
      "metadata": {
        "id": "Eeg1ldYB6MV3"
      },
      "execution_count": 93,
      "outputs": []
    },
    {
      "cell_type": "code",
      "source": [
        "def time_formatter(milliseconds):\n",
        "  seconds, milliseconds = divmod(milliseconds,1000) \n",
        "  minutes, seconds = divmod(seconds, 60) \n",
        "  hours, minutes = divmod(minutes, 60) \n",
        "  days, hours = divmod(hours, 24) \n",
        "  seconds = seconds + milliseconds/1000 \n",
        "  return \"{}d : \".format(days) + \"{}h : \".format(hours) + \"{}m : \".format(minutes) + \"{}s : \".format(seconds)\n"
      ],
      "metadata": {
        "id": "jBb4icgq2-4h"
      },
      "execution_count": 94,
      "outputs": []
    },
    {
      "cell_type": "code",
      "source": [
        "df = pd.DataFrame(artists)\n",
        "df = df.T\n",
        "df['duration'] = df['duration'].apply(lambda x: time_formatter(x))\n",
        "df.sort_values(by=['playlists'], ascending=False)"
      ],
      "metadata": {
        "colab": {
          "base_uri": "https://localhost:8080/",
          "height": 366
        },
        "id": "-sAG20abGfLd",
        "outputId": "97e07d0b-898a-48b5-b876-7daae135dd3f"
      },
      "execution_count": 97,
      "outputs": [
        {
          "output_type": "execute_result",
          "data": {
            "text/plain": [
              "                 featured                        duration  playlists\n",
              "kendrick lamar        128  1027d : 20h : 47m : 45.889s :      120901\n",
              "eminem                227    971d : 6h : 47m : 23.596s :       76657\n",
              "the killers           106   223d : 14h : 57m : 31.423s :       44540\n",
              "taylor swift          203    284d : 7h : 58m : 27.386s :       40696\n",
              "p!nk                  144    158d : 10h : 2m : 35.968s :       35536\n",
              "muse                  180    112d : 5h : 12m : 59.581s :       18081\n",
              "harry styles           12     99d : 14h : 59m : 9.467s :       17910\n",
              "andrea bocelli        212      17d : 3h : 57m : 8.573s :        2817\n",
              "zaz                    41     2d : 10h : 27m : 13.157s :         507\n",
              "lara fabian            78      0d : 23h : 20m : 9.805s :         200\n",
              "laurent garnier        24       0d : 12h : 8m : 3.311s :          89\n",
              "oumou                   0          0d : 0h : 0m : 0.0s :           0"
            ],
            "text/html": [
              "\n",
              "  <div id=\"df-9b6456c4-55b0-4e30-89a4-d5a0f4d6e0cc\">\n",
              "    <div class=\"colab-df-container\">\n",
              "      <div>\n",
              "<style scoped>\n",
              "    .dataframe tbody tr th:only-of-type {\n",
              "        vertical-align: middle;\n",
              "    }\n",
              "\n",
              "    .dataframe tbody tr th {\n",
              "        vertical-align: top;\n",
              "    }\n",
              "\n",
              "    .dataframe thead th {\n",
              "        text-align: right;\n",
              "    }\n",
              "</style>\n",
              "<table border=\"1\" class=\"dataframe\">\n",
              "  <thead>\n",
              "    <tr style=\"text-align: right;\">\n",
              "      <th></th>\n",
              "      <th>featured</th>\n",
              "      <th>duration</th>\n",
              "      <th>playlists</th>\n",
              "    </tr>\n",
              "  </thead>\n",
              "  <tbody>\n",
              "    <tr>\n",
              "      <th>kendrick lamar</th>\n",
              "      <td>128</td>\n",
              "      <td>1027d : 20h : 47m : 45.889s :</td>\n",
              "      <td>120901</td>\n",
              "    </tr>\n",
              "    <tr>\n",
              "      <th>eminem</th>\n",
              "      <td>227</td>\n",
              "      <td>971d : 6h : 47m : 23.596s :</td>\n",
              "      <td>76657</td>\n",
              "    </tr>\n",
              "    <tr>\n",
              "      <th>the killers</th>\n",
              "      <td>106</td>\n",
              "      <td>223d : 14h : 57m : 31.423s :</td>\n",
              "      <td>44540</td>\n",
              "    </tr>\n",
              "    <tr>\n",
              "      <th>taylor swift</th>\n",
              "      <td>203</td>\n",
              "      <td>284d : 7h : 58m : 27.386s :</td>\n",
              "      <td>40696</td>\n",
              "    </tr>\n",
              "    <tr>\n",
              "      <th>p!nk</th>\n",
              "      <td>144</td>\n",
              "      <td>158d : 10h : 2m : 35.968s :</td>\n",
              "      <td>35536</td>\n",
              "    </tr>\n",
              "    <tr>\n",
              "      <th>muse</th>\n",
              "      <td>180</td>\n",
              "      <td>112d : 5h : 12m : 59.581s :</td>\n",
              "      <td>18081</td>\n",
              "    </tr>\n",
              "    <tr>\n",
              "      <th>harry styles</th>\n",
              "      <td>12</td>\n",
              "      <td>99d : 14h : 59m : 9.467s :</td>\n",
              "      <td>17910</td>\n",
              "    </tr>\n",
              "    <tr>\n",
              "      <th>andrea bocelli</th>\n",
              "      <td>212</td>\n",
              "      <td>17d : 3h : 57m : 8.573s :</td>\n",
              "      <td>2817</td>\n",
              "    </tr>\n",
              "    <tr>\n",
              "      <th>zaz</th>\n",
              "      <td>41</td>\n",
              "      <td>2d : 10h : 27m : 13.157s :</td>\n",
              "      <td>507</td>\n",
              "    </tr>\n",
              "    <tr>\n",
              "      <th>lara fabian</th>\n",
              "      <td>78</td>\n",
              "      <td>0d : 23h : 20m : 9.805s :</td>\n",
              "      <td>200</td>\n",
              "    </tr>\n",
              "    <tr>\n",
              "      <th>laurent garnier</th>\n",
              "      <td>24</td>\n",
              "      <td>0d : 12h : 8m : 3.311s :</td>\n",
              "      <td>89</td>\n",
              "    </tr>\n",
              "    <tr>\n",
              "      <th>oumou</th>\n",
              "      <td>0</td>\n",
              "      <td>0d : 0h : 0m : 0.0s :</td>\n",
              "      <td>0</td>\n",
              "    </tr>\n",
              "  </tbody>\n",
              "</table>\n",
              "</div>\n",
              "      <button class=\"colab-df-convert\" onclick=\"convertToInteractive('df-9b6456c4-55b0-4e30-89a4-d5a0f4d6e0cc')\"\n",
              "              title=\"Convert this dataframe to an interactive table.\"\n",
              "              style=\"display:none;\">\n",
              "        \n",
              "  <svg xmlns=\"http://www.w3.org/2000/svg\" height=\"24px\"viewBox=\"0 0 24 24\"\n",
              "       width=\"24px\">\n",
              "    <path d=\"M0 0h24v24H0V0z\" fill=\"none\"/>\n",
              "    <path d=\"M18.56 5.44l.94 2.06.94-2.06 2.06-.94-2.06-.94-.94-2.06-.94 2.06-2.06.94zm-11 1L8.5 8.5l.94-2.06 2.06-.94-2.06-.94L8.5 2.5l-.94 2.06-2.06.94zm10 10l.94 2.06.94-2.06 2.06-.94-2.06-.94-.94-2.06-.94 2.06-2.06.94z\"/><path d=\"M17.41 7.96l-1.37-1.37c-.4-.4-.92-.59-1.43-.59-.52 0-1.04.2-1.43.59L10.3 9.45l-7.72 7.72c-.78.78-.78 2.05 0 2.83L4 21.41c.39.39.9.59 1.41.59.51 0 1.02-.2 1.41-.59l7.78-7.78 2.81-2.81c.8-.78.8-2.07 0-2.86zM5.41 20L4 18.59l7.72-7.72 1.47 1.35L5.41 20z\"/>\n",
              "  </svg>\n",
              "      </button>\n",
              "      \n",
              "  <style>\n",
              "    .colab-df-container {\n",
              "      display:flex;\n",
              "      flex-wrap:wrap;\n",
              "      gap: 12px;\n",
              "    }\n",
              "\n",
              "    .colab-df-convert {\n",
              "      background-color: #E8F0FE;\n",
              "      border: none;\n",
              "      border-radius: 50%;\n",
              "      cursor: pointer;\n",
              "      display: none;\n",
              "      fill: #1967D2;\n",
              "      height: 32px;\n",
              "      padding: 0 0 0 0;\n",
              "      width: 32px;\n",
              "    }\n",
              "\n",
              "    .colab-df-convert:hover {\n",
              "      background-color: #E2EBFA;\n",
              "      box-shadow: 0px 1px 2px rgba(60, 64, 67, 0.3), 0px 1px 3px 1px rgba(60, 64, 67, 0.15);\n",
              "      fill: #174EA6;\n",
              "    }\n",
              "\n",
              "    [theme=dark] .colab-df-convert {\n",
              "      background-color: #3B4455;\n",
              "      fill: #D2E3FC;\n",
              "    }\n",
              "\n",
              "    [theme=dark] .colab-df-convert:hover {\n",
              "      background-color: #434B5C;\n",
              "      box-shadow: 0px 1px 3px 1px rgba(0, 0, 0, 0.15);\n",
              "      filter: drop-shadow(0px 1px 2px rgba(0, 0, 0, 0.3));\n",
              "      fill: #FFFFFF;\n",
              "    }\n",
              "  </style>\n",
              "\n",
              "      <script>\n",
              "        const buttonEl =\n",
              "          document.querySelector('#df-9b6456c4-55b0-4e30-89a4-d5a0f4d6e0cc button.colab-df-convert');\n",
              "        buttonEl.style.display =\n",
              "          google.colab.kernel.accessAllowed ? 'block' : 'none';\n",
              "\n",
              "        async function convertToInteractive(key) {\n",
              "          const element = document.querySelector('#df-9b6456c4-55b0-4e30-89a4-d5a0f4d6e0cc');\n",
              "          const dataTable =\n",
              "            await google.colab.kernel.invokeFunction('convertToInteractive',\n",
              "                                                     [key], {});\n",
              "          if (!dataTable) return;\n",
              "\n",
              "          const docLinkHtml = 'Like what you see? Visit the ' +\n",
              "            '<a target=\"_blank\" href=https://colab.research.google.com/notebooks/data_table.ipynb>data table notebook</a>'\n",
              "            + ' to learn more about interactive tables.';\n",
              "          element.innerHTML = '';\n",
              "          dataTable['output_type'] = 'display_data';\n",
              "          await google.colab.output.renderOutput(dataTable, element);\n",
              "          const docLink = document.createElement('div');\n",
              "          docLink.innerHTML = docLinkHtml;\n",
              "          element.appendChild(docLink);\n",
              "        }\n",
              "      </script>\n",
              "    </div>\n",
              "  </div>\n",
              "  "
            ]
          },
          "metadata": {},
          "execution_count": 97
        }
      ]
    },
    {
      "cell_type": "code",
      "source": [
        "\n",
        "# weeknd starboy spotify:track:5aAx2yezTd8zXrkmtKl66Z\n",
        "# weeknd i feel it coming spotify:track:5GXAXm5YOmYT0kL5jHvYBt\n",
        "song_a = 'spotify:track:5aAx2yezTd8zXrkmtKl66Z'\n",
        "song_b = 'spotify:track:5GXAXm5YOmYT0kL5jHvYBt'\n",
        "found_a = None\n",
        "found_b = None\n",
        "playlists = []\n",
        "\n",
        "for single_file in zip_files:\n",
        "    with zip_file.open(single_file) as myfile:\n",
        "      data = myfile.read()\n",
        "      file = js.loads(data)\n",
        "\n",
        "      for playlist in file['playlists']:\n",
        "          if(found_a != None):\n",
        "            playlists.append(playlist)\n",
        "          if(any(song_a in d.values() for d in playlist['tracks']) and found_a == None):\n",
        "            found_a = playlist['pid']\n",
        "            playlists.append(playlist)\n",
        "            continue\n",
        "          if(any(song_b in d.values() for d in playlist['tracks']) and found_b == None and found_a != None):\n",
        "            found_b = playlist['pid']\n",
        "            break\n",
        "    if(found_a != None and found_b != None):\n",
        "      break\n"
      ],
      "metadata": {
        "id": "13TBNzvkx49e"
      },
      "execution_count": 98,
      "outputs": []
    },
    {
      "cell_type": "code",
      "source": [
        "def find_common_between_two(playlist_a, playlist_b):\n",
        "  array_a = [f['track_uri'] for f in playlist_b['tracks']]\n",
        "  proceed_boolean = False\n",
        "  for x in playlist_a['tracks']:\n",
        "    if(x['track_uri'] == song_a):\n",
        "      proceed_boolean = True\n",
        "      continue\n",
        "    if(proceed_boolean != True):\n",
        "      continue\n",
        "    if x['track_uri'] in array_a:\n",
        "      return x\n",
        "def find_common_between_three(playlist_a, playlist_b, playlist_c):\n",
        "  array_a = [f['track_uri'] for f in playlist_b['tracks']]\n",
        "  array_b = [f['track_uri'] for f in playlist_b['tracks']]\n",
        "  for x in playlist_a['tracks']:\n",
        "    if x['track_uri'] in array_a and x['track_uri'] in array_b:\n",
        "      return x\n",
        "      break \n",
        "def add_element(path, key, value):\n",
        "    path.append({key : value})\n",
        "\n",
        "def FindShortestPath(playlists_array, song_a, song_b):\n",
        "  direct_link_found = None\n",
        "  path = []\n",
        "  first_song_object = list(filter(lambda track: track['track_uri'] == song_a, playlists_array[0]['tracks']))[0]\n",
        "  second_song_object = list(filter(lambda track: track['track_uri'] == song_b, playlists_array[len(playlists_array)-1]['tracks']))[0]\n",
        "  path.append({playlists_array[0]['name'] : first_song_object })\n",
        "  direct_link_found = find_common_between_two(playlists_array[0],playlists_array[len(playlists_array) - 1])\n",
        "  if(direct_link_found != None):\n",
        "    playlist_a_common_song = list(filter(lambda track: track['track_uri'] == direct_link_found['track_uri'], playlists_array[0]['tracks']))[0]\n",
        "    path.append({playlists_array[0]['name'] : playlist_a_common_song})\n",
        "    path.append({playlists_array[len(playlists_array) - 1]['name'] : direct_link_found})\n",
        "    path.append({playlists_array[len(playlists_array) - 1]['name'] : second_song_object})\n",
        "    return path\n",
        "  else:\n",
        "    indirect_link_found = None\n",
        "    for i in range(1, len(playlists_array) -2):\n",
        "      indirect_link_found = find_common_between_three(playlists_array[0],playlists_array[i],playlists_array[len(playlists_array) - 1])\n",
        "      if(indirect_link_found != None):\n",
        "        path.append({playlists_array[i]['name']: indirect_link_found})\n",
        "        path.append({playlists_array[len(playlists_array)-1]['name']: second_song_object})\n",
        "        return path\n",
        "        \n",
        "\n",
        "  \n",
        "\n"
      ],
      "metadata": {
        "id": "ChlmhlhY_gDN"
      },
      "execution_count": 99,
      "outputs": []
    },
    {
      "cell_type": "code",
      "source": [
        "FindShortestPath(playlists, song_a, song_b )"
      ],
      "metadata": {
        "colab": {
          "base_uri": "https://localhost:8080/"
        },
        "id": "XjtzANgx_TBI",
        "outputId": "8db90443-4d7d-4eab-c48d-d0a81e8fa2ff"
      },
      "execution_count": 100,
      "outputs": [
        {
          "output_type": "execute_result",
          "data": {
            "text/plain": [
              "[{'Keepers': {'pos': 2,\n",
              "   'artist_name': 'The Weeknd',\n",
              "   'track_uri': 'spotify:track:5aAx2yezTd8zXrkmtKl66Z',\n",
              "   'artist_uri': 'spotify:artist:1Xyo4u8uXC1ZmMpatF05PJ',\n",
              "   'track_name': 'Starboy',\n",
              "   'album_uri': 'spotify:album:09fggMHib4YkOtwQNXEBII',\n",
              "   'duration_ms': 230453,\n",
              "   'album_name': 'Starboy'}},\n",
              " {'Keepers': {'pos': 3,\n",
              "   'artist_name': 'The Weeknd',\n",
              "   'track_uri': 'spotify:track:4F7A0DXBrmUAkp32uenhZt',\n",
              "   'artist_uri': 'spotify:artist:1Xyo4u8uXC1ZmMpatF05PJ',\n",
              "   'track_name': 'Party Monster',\n",
              "   'album_uri': 'spotify:album:2ODvWsOgouMbaA5xf0RkJe',\n",
              "   'duration_ms': 249213,\n",
              "   'album_name': 'Starboy'}},\n",
              " {'SS': {'pos': 3,\n",
              "   'artist_name': 'The Weeknd',\n",
              "   'track_uri': 'spotify:track:4F7A0DXBrmUAkp32uenhZt',\n",
              "   'artist_uri': 'spotify:artist:1Xyo4u8uXC1ZmMpatF05PJ',\n",
              "   'track_name': 'Party Monster',\n",
              "   'album_uri': 'spotify:album:2ODvWsOgouMbaA5xf0RkJe',\n",
              "   'duration_ms': 249213,\n",
              "   'album_name': 'Starboy'}},\n",
              " {'SS': {'pos': 38,\n",
              "   'artist_name': 'The Weeknd',\n",
              "   'track_uri': 'spotify:track:5GXAXm5YOmYT0kL5jHvYBt',\n",
              "   'artist_uri': 'spotify:artist:1Xyo4u8uXC1ZmMpatF05PJ',\n",
              "   'track_name': 'I Feel It Coming',\n",
              "   'album_uri': 'spotify:album:4AdZV63ycxFLF6Hcol0QnB',\n",
              "   'duration_ms': 269186,\n",
              "   'album_name': 'Starboy'}}]"
            ]
          },
          "metadata": {},
          "execution_count": 100
        }
      ]
    },
    {
      "cell_type": "code",
      "source": [],
      "metadata": {
        "id": "Znnz6nuLBCA_"
      },
      "execution_count": null,
      "outputs": []
    },
    {
      "cell_type": "code",
      "source": [],
      "metadata": {
        "id": "LMjRM5s5OfX7"
      },
      "execution_count": null,
      "outputs": []
    }
  ]
}